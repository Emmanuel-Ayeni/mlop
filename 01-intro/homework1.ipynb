{
 "cells": [
  {
   "cell_type": "code",
   "execution_count": 1,
   "id": "0ec545b7",
   "metadata": {},
   "outputs": [],
   "source": [
    "import pandas as pd\n",
    "\n",
    "from sklearn.feature_extraction import DictVectorizer\n",
    "from sklearn.linear_model import LinearRegression\n",
    "from sklearn.metrics import mean_squared_error\n",
    "\n",
    "import seaborn as sns\n",
    "import matplotlib.pyplot as plt\n",
    "\n",
    "import warnings\n",
    "warnings.filterwarnings('ignore')"
   ]
  },
  {
   "cell_type": "markdown",
   "id": "05b2eb37",
   "metadata": {},
   "source": [
    "### Q1. Downloading the data"
   ]
  },
  {
   "cell_type": "code",
   "execution_count": 2,
   "id": "ebad2aa0",
   "metadata": {},
   "outputs": [
    {
     "name": "stdout",
     "output_type": "stream",
     "text": [
      "total 93224\r\n",
      "    4 -rw-rw-rw- 1 codespace root          2100 May 20 18:22 homework.md\r\n",
      "   20 -rw-rw-rw- 1 codespace codespace    20115 May 23 15:43 homework1.ipynb\r\n",
      "46564 -rw-rw-rw- 1 codespace codespace 47673370 Mar 20  2023 yellow_tripdata_2023-01.parquet\r\n",
      "46636 -rw-rw-rw- 1 codespace codespace 47748012 May  1  2023 yellow_tripdata_2023-02.parquet\r\n"
     ]
    }
   ],
   "source": [
    "!ls -ls"
   ]
  },
  {
   "cell_type": "code",
   "execution_count": 4,
   "id": "09b2242b",
   "metadata": {},
   "outputs": [
    {
     "name": "stdout",
     "output_type": "stream",
     "text": [
      "rm: cannot remove '*.parquet.*': No such file or directory\n",
      "rm: cannot remove '*.parquet': No such file or directory\n"
     ]
    }
   ],
   "source": [
    "!rm *.parquet.*\n",
    "!rm *.parquet"
   ]
  },
  {
   "cell_type": "code",
   "execution_count": 5,
   "id": "f777ec41",
   "metadata": {},
   "outputs": [
    {
     "name": "stdout",
     "output_type": "stream",
     "text": [
      "total 24\r\n",
      " 4 -rw-rw-rw- 1 codespace root       2100 May 20 18:22 homework.md\r\n",
      "20 -rw-rw-rw- 1 codespace codespace 20115 May 23 15:43 homework1.ipynb\r\n"
     ]
    }
   ],
   "source": [
    "!ls -ls"
   ]
  },
  {
   "cell_type": "code",
   "execution_count": 6,
   "id": "09a8e0bc",
   "metadata": {},
   "outputs": [
    {
     "name": "stdout",
     "output_type": "stream",
     "text": [
      "--2024-05-23 15:44:33--  https://d37ci6vzurychx.cloudfront.net/trip-data/yellow_tripdata_2023-01.parquet\n",
      "Resolving d37ci6vzurychx.cloudfront.net (d37ci6vzurychx.cloudfront.net)... 18.239.238.119, 18.239.238.212, 18.239.238.133, ...\n",
      "Connecting to d37ci6vzurychx.cloudfront.net (d37ci6vzurychx.cloudfront.net)|18.239.238.119|:443... connected.\n",
      "HTTP request sent, awaiting response... 200 OK\n",
      "Length: 47673370 (45M) [application/x-www-form-urlencoded]\n",
      "Saving to: ‘yellow_tripdata_2023-01.parquet’\n",
      "\n",
      "yellow_tripdata_202 100%[===================>]  45.46M   216MB/s    in 0.2s    \n",
      "\n",
      "2024-05-23 15:44:33 (216 MB/s) - ‘yellow_tripdata_2023-01.parquet’ saved [47673370/47673370]\n",
      "\n",
      "--2024-05-23 15:44:34--  https://d37ci6vzurychx.cloudfront.net/trip-data/yellow_tripdata_2023-02.parquet\n",
      "Resolving d37ci6vzurychx.cloudfront.net (d37ci6vzurychx.cloudfront.net)... 18.239.238.212, 18.239.238.133, 18.239.238.152, ...\n",
      "Connecting to d37ci6vzurychx.cloudfront.net (d37ci6vzurychx.cloudfront.net)|18.239.238.212|:443... connected.\n",
      "HTTP request sent, awaiting response... 200 OK\n",
      "Length: 47748012 (46M) [application/x-www-form-urlencoded]\n",
      "Saving to: ‘yellow_tripdata_2023-02.parquet’\n",
      "\n",
      "yellow_tripdata_202 100%[===================>]  45.54M   197MB/s    in 0.2s    \n",
      "\n",
      "2024-05-23 15:44:34 (197 MB/s) - ‘yellow_tripdata_2023-02.parquet’ saved [47748012/47748012]\n",
      "\n"
     ]
    }
   ],
   "source": [
    "!wget https://d37ci6vzurychx.cloudfront.net/trip-data/yellow_tripdata_2023-01.parquet\n",
    "!wget https://d37ci6vzurychx.cloudfront.net/trip-data/yellow_tripdata_2023-02.parquet "
   ]
  },
  {
   "cell_type": "code",
   "execution_count": 7,
   "id": "82897d5f",
   "metadata": {},
   "outputs": [
    {
     "name": "stdout",
     "output_type": "stream",
     "text": [
      "total 93216\r\n",
      "    4 -rw-rw-rw- 1 codespace root          2100 May 20 18:22 homework.md\r\n",
      "   20 -rw-rw-rw- 1 codespace codespace    20115 May 23 15:43 homework1.ipynb\r\n",
      "46560 -rw-rw-rw- 1 codespace codespace 47673370 Mar 20  2023 yellow_tripdata_2023-01.parquet\r\n",
      "46632 -rw-rw-rw- 1 codespace codespace 47748012 May  1  2023 yellow_tripdata_2023-02.parquet\r\n"
     ]
    }
   ],
   "source": [
    "!ls -ls"
   ]
  },
  {
   "cell_type": "code",
   "execution_count": 8,
   "id": "10e6f734",
   "metadata": {},
   "outputs": [
    {
     "name": "stdout",
     "output_type": "stream",
     "text": [
      "/workspaces/mlop/01-intro\r\n"
     ]
    }
   ],
   "source": [
    "!pwd"
   ]
  },
  {
   "cell_type": "code",
   "execution_count": 9,
   "id": "3bd3122e",
   "metadata": {},
   "outputs": [],
   "source": [
    "df1 = pd.read_parquet('yellow_tripdata_2023-01.parquet')\n",
    "df2 = pd.read_parquet('yellow_tripdata_2023-02.parquet')"
   ]
  },
  {
   "cell_type": "code",
   "execution_count": 10,
   "id": "91814ea8",
   "metadata": {},
   "outputs": [
    {
     "name": "stdout",
     "output_type": "stream",
     "text": [
      "Q1-January has 19 Columns.\n"
     ]
    }
   ],
   "source": [
    "print(f\"Q1-January has {len(df1.columns)} Columns.\")"
   ]
  },
  {
   "cell_type": "markdown",
   "id": "849af0c8",
   "metadata": {},
   "source": [
    "## Q2. Computing duration"
   ]
  },
  {
   "cell_type": "code",
   "execution_count": 11,
   "id": "4e75dd51",
   "metadata": {},
   "outputs": [],
   "source": [
    "df1['duration'] = df1.tpep_dropoff_datetime - df1.tpep_pickup_datetime\n",
    "df1['duration'] = df1.duration.dt.total_seconds() / 60"
   ]
  },
  {
   "cell_type": "code",
   "execution_count": 12,
   "id": "bbe06efc",
   "metadata": {},
   "outputs": [
    {
     "name": "stdout",
     "output_type": "stream",
     "text": [
      "Q2-The Standard Deviation of the trips duration in January 2023 42.594351241920904\n"
     ]
    }
   ],
   "source": [
    "print(f\"Q2-The Standard Deviation of the trips duration in January 2023 {df1.duration.std()}\")"
   ]
  },
  {
   "cell_type": "markdown",
   "id": "045d8983",
   "metadata": {},
   "source": [
    "## Q3. Dropping outliers\n",
    "* Check the distribution of the Duration variable.\n",
    "* Remove some outliers.\n",
    "* Keep records between 1 and 60 minutes.\n",
    "* What fraction of the records left after dropping the outliers?"
   ]
  },
  {
   "cell_type": "code",
   "execution_count": 13,
   "id": "ea5e6046",
   "metadata": {},
   "outputs": [],
   "source": [
    "fractPer = len(df1[(df1.duration >= 1) & (df1.duration <= 60)]) / len(df1) * 100"
   ]
  },
  {
   "cell_type": "code",
   "execution_count": 14,
   "id": "365520d5",
   "metadata": {},
   "outputs": [
    {
     "name": "stdout",
     "output_type": "stream",
     "text": [
      "Q3-The Fraction of records left after the January 2023: 98.1220282212598\n"
     ]
    }
   ],
   "source": [
    "print(f\"Q3-The Fraction of records left after the January 2023: {fractPer}\")"
   ]
  },
  {
   "cell_type": "code",
   "execution_count": 15,
   "id": "41a86c41",
   "metadata": {},
   "outputs": [],
   "source": [
    "df = df1[(df1.duration >= 1) & (df1.duration <= 60)].copy()"
   ]
  },
  {
   "cell_type": "markdown",
   "id": "4376c861",
   "metadata": {},
   "source": [
    "## Q4. One-hot encoding\n",
    "* Apply one-hot encoding to the pickup and dropoff location IDs.\n",
    "* Turn the dataframe into a list of dictionaries \n",
    "* Fit a dictionary vectorizer \n",
    "* Get a feature matrix from it\n",
    "* What's the dimensionality of this matrix (number of columns)?\n"
   ]
  },
  {
   "cell_type": "code",
   "execution_count": 16,
   "id": "53bb9b75",
   "metadata": {},
   "outputs": [],
   "source": [
    "categorical = ['PULocationID', 'DOLocationID']"
   ]
  },
  {
   "cell_type": "code",
   "execution_count": 17,
   "id": "6b9c050c",
   "metadata": {},
   "outputs": [],
   "source": [
    "df[categorical] = df[categorical].astype(str)"
   ]
  },
  {
   "cell_type": "code",
   "execution_count": 18,
   "id": "989219cc",
   "metadata": {},
   "outputs": [],
   "source": [
    "train_dicts = df[categorical].to_dict(orient='records')"
   ]
  },
  {
   "cell_type": "code",
   "execution_count": 32,
   "id": "1ca12117",
   "metadata": {},
   "outputs": [],
   "source": [
    "dv = DictVectorizer()\n",
    "X_train = dv.fit_transform(train_dicts)"
   ]
  },
  {
   "cell_type": "code",
   "execution_count": 21,
   "id": "4fad63d3",
   "metadata": {},
   "outputs": [
    {
     "name": "stdout",
     "output_type": "stream",
     "text": [
      "Feature matrix size: (3009173, 515)\n"
     ]
    }
   ],
   "source": [
    "print(f'Feature matrix size: {X_train.shape}')"
   ]
  },
  {
   "cell_type": "markdown",
   "id": "c095efa2",
   "metadata": {},
   "source": [
    "## Q5. Training a model\n",
    "* Now let's use the feature matrix from the previous step to train a model. \n",
    "* Train a plain linear regression model with default parameters \n",
    "* Calculate the RMSE of the model on the training data"
   ]
  },
  {
   "cell_type": "code",
   "execution_count": 22,
   "id": "528a28d7",
   "metadata": {},
   "outputs": [],
   "source": [
    "target = 'duration'\n",
    "y_train = df[target].values"
   ]
  },
  {
   "cell_type": "code",
   "execution_count": 23,
   "id": "8f1c8a52",
   "metadata": {},
   "outputs": [
    {
     "name": "stdout",
     "output_type": "stream",
     "text": [
      "Train RMSE: 7.649261027782827\n"
     ]
    }
   ],
   "source": [
    "lr = LinearRegression()\n",
    "lr.fit(X_train, y_train)\n",
    "\n",
    "y_pred = lr.predict(X_train)\n",
    "\n",
    "print(f'Train RMSE: {mean_squared_error(y_train, y_pred, squared=False)}')"
   ]
  },
  {
   "cell_type": "markdown",
   "id": "18b96fd7",
   "metadata": {},
   "source": [
    "## Q6. Evaluating the model\n",
    "* Now let's apply this model to the validation dataset (February 2023).\n",
    "* What's the RMSE on validation?"
   ]
  },
  {
   "cell_type": "code",
   "execution_count": 24,
   "id": "6d9b8347",
   "metadata": {},
   "outputs": [],
   "source": [
    "categorical = ['PULocationID', 'DOLocationID']\n",
    "\n",
    "def read_data(filename):\n",
    "    df = pd.read_parquet(filename)\n",
    "\n",
    "    df['duration'] = df.tpep_dropoff_datetime - df.tpep_pickup_datetime\n",
    "    df.duration = df.duration.dt.total_seconds() / 60\n",
    "\n",
    "    df = df[(df.duration >= 1) & (df.duration <= 60)].copy()\n",
    "\n",
    "    df[categorical] = df[categorical].astype('str')\n",
    "    \n",
    "    return df"
   ]
  },
  {
   "cell_type": "code",
   "execution_count": 30,
   "id": "8e34eafd",
   "metadata": {},
   "outputs": [
    {
     "name": "stdout",
     "output_type": "stream",
     "text": [
      "total 93224\r\n",
      "    4 -rw-rw-rw- 1 codespace root          2100 May 20 18:22 homework.md\r\n",
      "   20 -rw-rw-rw- 1 codespace codespace    17205 May 23 15:55 homework1.ipynb\r\n",
      "46564 -rw-rw-rw- 1 codespace codespace 47673370 Mar 20  2023 yellow_tripdata_2023-01.parquet\r\n",
      "46636 -rw-rw-rw- 1 codespace codespace 47748012 May  1  2023 yellow_tripdata_2023-02.parquet\r\n"
     ]
    }
   ],
   "source": [
    "!ls -ls"
   ]
  },
  {
   "cell_type": "code",
   "execution_count": 31,
   "id": "bc9625eb",
   "metadata": {},
   "outputs": [],
   "source": [
    "df_val = read_data('/workspaces/mlop/01-intro/yellow_tripdata_2023-02.parquet')"
   ]
  },
  {
   "cell_type": "code",
   "execution_count": 33,
   "id": "65cd1d43",
   "metadata": {},
   "outputs": [
    {
     "data": {
      "text/plain": [
       "Index(['VendorID', 'tpep_pickup_datetime', 'tpep_dropoff_datetime',\n",
       "       'passenger_count', 'trip_distance', 'RatecodeID', 'store_and_fwd_flag',\n",
       "       'PULocationID', 'DOLocationID', 'payment_type', 'fare_amount', 'extra',\n",
       "       'mta_tax', 'tip_amount', 'tolls_amount', 'improvement_surcharge',\n",
       "       'total_amount', 'congestion_surcharge', 'Airport_fee', 'duration'],\n",
       "      dtype='object')"
      ]
     },
     "execution_count": 33,
     "metadata": {},
     "output_type": "execute_result"
    }
   ],
   "source": [
    "df_val.columns"
   ]
  },
  {
   "cell_type": "code",
   "execution_count": 34,
   "id": "954f39c6",
   "metadata": {},
   "outputs": [],
   "source": [
    "val_dicts = df_val[categorical].to_dict(orient='records')"
   ]
  },
  {
   "cell_type": "code",
   "execution_count": 35,
   "id": "e2777e97",
   "metadata": {},
   "outputs": [],
   "source": [
    "X_val = dv.transform(val_dicts) \n",
    "y_val = df_val.duration.values"
   ]
  },
  {
   "cell_type": "code",
   "execution_count": 36,
   "id": "20505f2b",
   "metadata": {},
   "outputs": [
    {
     "data": {
      "text/plain": [
       "(2855951, 515)"
      ]
     },
     "execution_count": 36,
     "metadata": {},
     "output_type": "execute_result"
    }
   ],
   "source": [
    "X_val.shape"
   ]
  },
  {
   "cell_type": "code",
   "execution_count": 37,
   "id": "a6d47c64",
   "metadata": {},
   "outputs": [],
   "source": [
    "y_pred = lr.predict(X_val)"
   ]
  },
  {
   "cell_type": "code",
   "execution_count": 38,
   "id": "80ae91c3",
   "metadata": {},
   "outputs": [
    {
     "name": "stdout",
     "output_type": "stream",
     "text": [
      "Val RMSE: 7.8118326159414675\n"
     ]
    }
   ],
   "source": [
    "print(f'Val RMSE: {mean_squared_error(y_val, y_pred, squared=False)}')"
   ]
  },
  {
   "cell_type": "code",
   "execution_count": null,
   "id": "53d8a720",
   "metadata": {},
   "outputs": [],
   "source": []
  }
 ],
 "metadata": {
  "kernelspec": {
   "display_name": "Python 3 (ipykernel)",
   "language": "python",
   "name": "python3"
  },
  "language_info": {
   "codemirror_mode": {
    "name": "ipython",
    "version": 3
   },
   "file_extension": ".py",
   "mimetype": "text/x-python",
   "name": "python",
   "nbconvert_exporter": "python",
   "pygments_lexer": "ipython3",
   "version": "3.9.12"
  }
 },
 "nbformat": 4,
 "nbformat_minor": 5
}
